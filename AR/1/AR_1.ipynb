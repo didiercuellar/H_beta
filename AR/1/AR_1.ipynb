{
 "cells": [
  {
   "cell_type": "code",
   "execution_count": 1,
   "metadata": {},
   "outputs": [],
   "source": [
    "import pandas as pd \n",
    "import numpy as np \n",
    "import scipy.stats as st \n",
    "from scipy.interpolate import interp1d\n",
    "from matplotlib import pyplot as plt \n",
    "import math\n",
    "import statistics as stats"
   ]
  },
  {
   "cell_type": "code",
   "execution_count": 2,
   "metadata": {},
   "outputs": [
    {
     "name": "stdout",
     "output_type": "stream",
     "text": [
      "2249.8179758021365\n",
      "           A         B        C\n",
      "0   0.411784  1.138076   5461.0\n",
      "1   1.076529  2.549643  10714.0\n",
      "2   0.344893  1.805657   7307.0\n",
      "3   0.290591  1.104069   4371.0\n",
      "4   0.319685  1.767705   6340.0\n",
      "5   0.502949  1.263781  12437.0\n",
      "6   1.195958  2.545575   4691.0\n",
      "7   0.763754  1.305997   3919.0\n",
      "8   1.244103  2.439712   2982.0\n",
      "9   1.193816  2.671509   3254.0\n",
      "10  0.570943  2.029017   4265.0\n",
      "11  0.153155  0.952812   3949.0\n",
      "12  0.394001  1.934140   7575.0\n",
      "13  0.740282  2.437442   7216.0\n",
      "14  0.649247  2.175012   4349.0\n",
      "15  0.881436  2.327185   6212.0\n",
      "16  0.383543  1.991499   6303.0\n",
      "17  0.877571  2.202451   4188.0\n",
      "18  0.366256  1.130894   4058.0\n",
      "19  0.411800  1.814461  10412.0\n",
      "20  0.543287  2.187954   5394.0\n",
      "21  0.478902  1.844556   3262.0\n",
      "22  1.065126  2.271478   3280.0\n",
      "23  0.703083  2.256125   4722.0\n",
      "24  0.990205  2.255233   4436.0\n",
      "25  1.121248  2.478571   3666.0\n",
      "26  0.792190  2.146730   4654.0\n",
      "27  1.105838  2.266705   4147.0\n",
      "28  0.468388  1.233203   4122.0\n",
      "29  0.417968  1.886522   4326.0\n",
      "30  0.768165  2.062233   4529.0\n",
      "31  0.403970  1.847505   6255.0\n",
      "32  0.886289  2.251101   3588.0\n",
      "33  0.460897  1.995998   3051.0\n"
     ]
    }
   ],
   "source": [
    "data=pd.read_csv('AR_1_U.csv',header=0,)\n",
    "data = data.dropna(how='any')#quita los valores nan del documento\n",
    "y=data.iloc[:,0]\n",
    "w=data.iloc[:,1]\n",
    "x=data.iloc[:,2]\n",
    "\n",
    "print(stats.stdev(x))\n",
    "print(data)"
   ]
  },
  {
   "cell_type": "code",
   "execution_count": 4,
   "metadata": {
    "scrolled": true
   },
   "outputs": [
    {
     "data": {
      "text/plain": [
       "<function matplotlib.pyplot.show(close=None, block=None)>"
      ]
     },
     "execution_count": 4,
     "metadata": {},
     "output_type": "execute_result"
    },
    {
     "data": {
      "image/png": "[encoded data removed]",
      "text/plain": [
       "<Figure size 432x288 with 1 Axes>"
      ]
     },
     "metadata": {
      "needs_background": "light"
     },
     "output_type": "display_data"
    }
   ],
   "source": [
    "yerror = w\n",
    "xerror = 2249.8179758021365\n",
    "plt.plot(x,y,'ro')\n",
    "plt.errorbar(x,y,yerr=yerror, fmt = ' ' , ecolor='black')\n",
    "plt.errorbar(x,y,xerr=xerror, fmt = ' ' , ecolor='blue')\n",
    "plt.ylabel('AR_U_1')\n",
    "plt.xlabel('FWHM_Km/s')\n",
    "plt.title(\"H_beta_U_1\")\n",
    "#plt.xscale('log')\n",
    "#plt.yscale('log')\n",
    "plt.grid()\n",
    "plt.savefig(\"H_beta_AR_U_1_error.pdf\")\n",
    "plt.show"
   ]
  },
  {
   "cell_type": "code",
   "execution_count": 6,
   "metadata": {
    "scrolled": true
   },
   "outputs": [
    {
     "name": "stdout",
     "output_type": "stream",
     "text": [
      "2249.8179758021365\n",
      "1.1106768819891877\n",
      "           A        B\n",
      "0   1.455610   5461.0\n",
      "1   0.943962  10714.0\n",
      "2   0.443118   7307.0\n",
      "3   2.370353   4371.0\n",
      "4   0.432795   6340.0\n",
      "5   1.423855  12437.0\n",
      "6   0.493137   4691.0\n",
      "7   2.175539   3919.0\n",
      "8   2.274134   2982.0\n",
      "9   1.202399   3254.0\n",
      "10  1.161422   4265.0\n",
      "11  0.632150   3949.0\n",
      "12  0.627928   7575.0\n",
      "13  1.210559   7216.0\n",
      "14  1.660327   4349.0\n",
      "15  1.611070   6212.0\n",
      "16  0.181643   6303.0\n",
      "17  1.204787   4188.0\n",
      "18  0.450552   4058.0\n",
      "19  0.682330  10412.0\n",
      "20  0.554829   5394.0\n",
      "21  1.127944   3262.0\n",
      "22  1.683757   3280.0\n",
      "23  6.346533   4722.0\n",
      "24  0.596994   4436.0\n",
      "25  3.018839   3666.0\n",
      "26  1.582565   4654.0\n",
      "27  1.283792   4147.0\n",
      "28  0.331010   4122.0\n",
      "29  0.697795   4326.0\n",
      "30  1.954652   4529.0\n",
      "31  1.416915   6255.0\n",
      "32  0.827122   3588.0\n",
      "33  0.721772   3051.0\n"
     ]
    }
   ],
   "source": [
    "data=pd.read_csv('AR_1_G.csv',header=0,)\n",
    "data = data.dropna(how='any')#quita los valores nan del documento\n",
    "y=data.iloc[:,0]\n",
    "x=data.iloc[:,1]\n",
    "\n",
    "print(stats.stdev(x))\n",
    "print(stats.stdev(y))\n",
    "print(data)"
   ]
  },
  {
   "cell_type": "code",
   "execution_count": 8,
   "metadata": {},
   "outputs": [
    {
     "data": {
      "text/plain": [
       "<function matplotlib.pyplot.show(close=None, block=None)>"
      ]
     },
     "execution_count": 8,
     "metadata": {},
     "output_type": "execute_result"
    },
    {
     "data": {
      "image/png": "[encoded data removed]",
      "text/plain": [
       "<Figure size 432x288 with 1 Axes>"
      ]
     },
     "metadata": {
      "needs_background": "light"
     },
     "output_type": "display_data"
    }
   ],
   "source": [
    "yerror = 1.1106768819891877\n",
    "xerror = 2249.8179758021365\n",
    "plt.plot(x,y,'ro')\n",
    "plt.errorbar(x,y,yerr=yerror, fmt = ' ' , ecolor='black')\n",
    "plt.errorbar(x,y,xerr=xerror, fmt = ' ' , ecolor='blue')\n",
    "plt.ylabel('AR_G_1')\n",
    "plt.xlabel('FWHM_Km/s')\n",
    "plt.title(\"H_beta_G_1\")\n",
    "#plt.xscale('log')\n",
    "#plt.yscale('log')\n",
    "plt.grid()\n",
    "plt.savefig(\"H_beta_AR_G_1_error.pdf\")\n",
    "plt.show"
   ]
  },
  {
   "cell_type": "code",
   "execution_count": 9,
   "metadata": {},
   "outputs": [
    {
     "name": "stdout",
     "output_type": "stream",
     "text": [
      "2249.8179758021365\n",
      "           A         B        C\n",
      "0   0.915703  2.492778   5461.0\n",
      "1   1.132959  2.685760  10714.0\n",
      "2   0.379168  1.790669   7307.0\n",
      "3   0.415966  1.195463   4371.0\n",
      "4   0.449154  2.176936   6340.0\n",
      "5   0.415651  1.024174  12437.0\n",
      "6   1.061236  2.413663   4691.0\n",
      "7   0.474634  1.158187   3919.0\n",
      "8   0.517322  1.663400   2982.0\n",
      "9   1.148267  1.839163   3254.0\n",
      "10  1.606809  2.142861   4265.0\n",
      "11  0.236182  1.019044   3949.0\n",
      "12  0.532512  2.433069   7575.0\n",
      "13  0.647999  2.281443   7216.0\n",
      "14  0.602236  1.909613   4349.0\n",
      "15  1.149111  2.394414   6212.0\n",
      "16  1.774575  2.647866   6303.0\n",
      "17  0.689235  2.280064   4188.0\n",
      "18  0.555093  2.145922   4058.0\n",
      "19  0.269174  1.116349  10412.0\n",
      "20  2.424977  1.748096   5394.0\n",
      "21  0.303760  1.728368   3262.0\n",
      "22  0.577994  1.192012   3280.0\n",
      "23  0.959373  2.392288   4722.0\n",
      "24  1.444765  2.553434   4436.0\n",
      "25  0.609094  2.036819   3666.0\n",
      "26  0.485847  1.160667   4654.0\n",
      "27  2.696403  1.693393   4147.0\n",
      "28  0.528185  2.095930   4122.0\n",
      "29  0.918374  2.271917   4326.0\n",
      "30  1.107811  2.419192   4529.0\n",
      "31  0.795647  2.210590   6255.0\n",
      "32  0.535803  2.191962   3588.0\n",
      "33  0.517212  2.090665   3051.0\n"
     ]
    }
   ],
   "source": [
    "data=pd.read_csv('AR_1_R.csv',header=0,)\n",
    "data = data.dropna(how='any')#quita los valores nan del documento\n",
    "y=data.iloc[:,0]\n",
    "w=data.iloc[:,1]\n",
    "x=data.iloc[:,2]\n",
    "\n",
    "print(stats.stdev(x))\n",
    "print(data)"
   ]
  },
  {
   "cell_type": "code",
   "execution_count": 11,
   "metadata": {},
   "outputs": [
    {
     "data": {
      "text/plain": [
       "<function matplotlib.pyplot.show(close=None, block=None)>"
      ]
     },
     "execution_count": 11,
     "metadata": {},
     "output_type": "execute_result"
    },
    {
     "data": {
      "image/png": "[encoded data removed]",
      "text/plain": [
       "<Figure size 432x288 with 1 Axes>"
      ]
     },
     "metadata": {
      "needs_background": "light"
     },
     "output_type": "display_data"
    }
   ],
   "source": [
    "yerror = w\n",
    "xerror = 2249.8179758021365\n",
    "plt.plot(x,y,'ro')\n",
    "plt.errorbar(x,y,yerr=yerror, fmt = ' ' , ecolor='black')\n",
    "plt.errorbar(x,y,xerr=xerror, fmt = ' ' , ecolor='blue')\n",
    "plt.ylabel('AR_R_1')\n",
    "plt.xlabel('FWHM_Km/s')\n",
    "plt.title(\"H_beta_R_1\")\n",
    "#plt.xscale('log')\n",
    "#plt.yscale('log')\n",
    "plt.grid()\n",
    "plt.savefig(\"H_beta_AR_R_1_error.pdf\")\n",
    "plt.show"
   ]
  },
  {
   "cell_type": "code",
   "execution_count": 12,
   "metadata": {
    "scrolled": true
   },
   "outputs": [
    {
     "name": "stdout",
     "output_type": "stream",
     "text": [
      "2249.8179758021365\n",
      "           A         B        C\n",
      "0   1.471469  2.101748   5461.0\n",
      "1   1.020110  2.439465  10714.0\n",
      "2   0.537924  1.960089   7307.0\n",
      "3   0.343263  1.072385   4371.0\n",
      "4   0.115155  1.468025   6340.0\n",
      "5   0.397382  1.100232  12437.0\n",
      "6   0.947052  2.251859   4691.0\n",
      "7   0.663435  1.263945   3919.0\n",
      "8   1.640888  2.114657   2982.0\n",
      "9   1.143993  2.531450   3254.0\n",
      "10  3.149174  1.899663   4265.0\n",
      "11  0.957337  2.295542   3949.0\n",
      "12  0.427887  1.961704   7575.0\n",
      "13  1.227743  2.353830   7216.0\n",
      "14  2.408718  2.566071   4349.0\n",
      "15  1.387143  2.500038   6212.0\n",
      "16  1.461199  2.048195   6303.0\n",
      "17  0.592199  2.269263   4188.0\n",
      "18  0.660132  2.250493   4058.0\n",
      "19  0.456238  1.158053  10412.0\n",
      "20  0.808038  2.097221   5394.0\n",
      "21  0.202855  1.792334   3262.0\n",
      "22  0.273175  1.185579   3280.0\n",
      "23  0.644541  1.889720   4722.0\n",
      "24  0.809501  2.332752   4436.0\n",
      "25  0.082994  0.869399   3666.0\n",
      "26  0.967876  2.243981   4654.0\n",
      "27  2.190222  2.102792   4147.0\n",
      "28  0.903153  2.432153   4122.0\n",
      "29  1.256574  2.521347   4326.0\n",
      "30  0.115222  1.891877   4529.0\n",
      "31  0.627194  2.276224   6255.0\n",
      "32  0.725041  2.341531   3588.0\n",
      "33  0.508202  2.124880   3051.0\n"
     ]
    }
   ],
   "source": [
    "data=pd.read_csv('AR_1_I.csv',header=0,)\n",
    "data = data.dropna(how='any')#quita los valores nan del documento\n",
    "y=data.iloc[:,0]\n",
    "x=data.iloc[:,2]\n",
    "w=data.iloc[:,1]\n",
    "print(stats.stdev(x))\n",
    "print(data)"
   ]
  },
  {
   "cell_type": "code",
   "execution_count": 14,
   "metadata": {},
   "outputs": [
    {
     "data": {
      "text/plain": [
       "<function matplotlib.pyplot.show(close=None, block=None)>"
      ]
     },
     "execution_count": 14,
     "metadata": {},
     "output_type": "execute_result"
    },
    {
     "data": {
      "image/png": "[encoded data removed]",
      "text/plain": [
       "<Figure size 432x288 with 1 Axes>"
      ]
     },
     "metadata": {
      "needs_background": "light"
     },
     "output_type": "display_data"
    }
   ],
   "source": [
    "yerror = w\n",
    "xerror = 2249.8179758021365\n",
    "plt.plot(x,y,'ro')\n",
    "plt.errorbar(x,y,yerr=yerror, fmt = ' ' , ecolor='black')\n",
    "plt.errorbar(x,y,xerr=xerror, fmt = ' ' , ecolor='blue')\n",
    "plt.ylabel('AR_I_1')\n",
    "plt.xlabel('FWHM_Km/s')\n",
    "plt.title(\"H_beta_I_1\")\n",
    "#plt.xscale('log')\n",
    "#plt.yscale('log')\n",
    "#plt.xlim(0,20000)\n",
    "plt.grid()\n",
    "plt.savefig(\"H_beta_AR_I_1_error.pdf\")\n",
    "plt.show"
   ]
  },
  {
   "cell_type": "code",
   "execution_count": 15,
   "metadata": {},
   "outputs": [
    {
     "name": "stdout",
     "output_type": "stream",
     "text": [
      "2284.46368076013\n",
      "    0.534100960107  2.20721328002     5461\n",
      "0         0.544277       2.120358  10714.0\n",
      "1         0.497133       1.987317   7307.0\n",
      "2         0.416236       1.136550   4371.0\n",
      "3         0.731127       2.323023   6340.0\n",
      "4         0.464140       1.168644  12437.0\n",
      "5         0.716237       2.294206   4691.0\n",
      "6         0.489555       1.127366   3919.0\n",
      "7         1.204107       2.277670   2982.0\n",
      "8         1.261958       1.994870   3254.0\n",
      "9         0.690545       2.122802   4265.0\n",
      "10        0.709414       2.291389   3949.0\n",
      "11        0.551239       2.308702   7575.0\n",
      "12        0.419983       1.166339   7216.0\n",
      "13        0.620472       2.297065   4349.0\n",
      "14        0.502938       2.062734   6212.0\n",
      "15        0.820645       2.319309   6303.0\n",
      "16        0.531518       2.160119   4188.0\n",
      "17        0.545861       2.123537   4058.0\n",
      "18        0.685899       1.391431  10412.0\n",
      "19        3.380354       2.033252   5394.0\n",
      "20        0.531992       2.135335   3262.0\n",
      "21        0.420955       1.880708   3280.0\n",
      "22        0.511643       2.187911   4722.0\n",
      "23        0.749859       2.483173   4436.0\n",
      "24        0.558485       2.085645   3666.0\n",
      "25        0.791105       1.979095   4654.0\n",
      "26        0.513791       2.090643   4147.0\n",
      "27        1.015910       2.588534   4122.0\n",
      "28        0.794101       2.267907   4326.0\n",
      "29        0.526745       2.191995   4529.0\n",
      "30        0.607104       2.141723   6255.0\n",
      "31        0.744103       2.135727   3588.0\n",
      "32        0.261177       1.230845   3051.0\n"
     ]
    }
   ],
   "source": [
    "data=pd.read_csv('AR_1_Z.csv',header=0,)\n",
    "data = data.dropna(how='any')#quita los valores nan del documento\n",
    "y=data.iloc[:,0]\n",
    "x=data.iloc[:,2]\n",
    "w=data.iloc[:,1]\n",
    "\n",
    "print(stats.stdev(x))\n",
    "print(data)"
   ]
  },
  {
   "cell_type": "code",
   "execution_count": 16,
   "metadata": {},
   "outputs": [
    {
     "data": {
      "text/plain": [
       "<function matplotlib.pyplot.show(close=None, block=None)>"
      ]
     },
     "execution_count": 16,
     "metadata": {},
     "output_type": "execute_result"
    },
    {
     "data": {
      "image/png": "[encoded data removed]",
      "text/plain": [
       "<Figure size 432x288 with 1 Axes>"
      ]
     },
     "metadata": {
      "needs_background": "light"
     },
     "output_type": "display_data"
    }
   ],
   "source": [
    "yerror = w\n",
    "xerror = 2284.46368076013\n",
    "plt.plot(x,y,'ro')\n",
    "plt.errorbar(x,y,yerr=yerror, fmt = ' ' , ecolor='black')\n",
    "plt.errorbar(x,y,xerr=xerror, fmt = ' ' , ecolor='blue')\n",
    "plt.ylabel('AR_Z_1')\n",
    "plt.xlabel('FWHM_Km/s')\n",
    "plt.title(\"H_beta_Z_1\")\n",
    "#plt.xscale('log')\n",
    "#plt.yscale('log')\n",
    "#plt.xlim(0,20000)\n",
    "plt.grid()\n",
    "plt.savefig(\"H_beta_AR_Z_1_error.pdf\")\n",
    "plt.show"
   ]
  },
  {
   "cell_type": "code",
   "execution_count": null,
   "metadata": {},
   "outputs": [],
   "source": []
  }
 ],
 "metadata": {
  "kernelspec": {
   "display_name": "Python 3",
   "language": "python",
   "name": "python3"
  },
  "language_info": {
   "codemirror_mode": {
    "name": "ipython",
    "version": 3
   },
   "file_extension": ".py",
   "mimetype": "text/x-python",
   "name": "python",
   "nbconvert_exporter": "python",
   "pygments_lexer": "ipython3",
   "version": "3.7.6"
  }
 },
 "nbformat": 4,
 "nbformat_minor": 4
}
