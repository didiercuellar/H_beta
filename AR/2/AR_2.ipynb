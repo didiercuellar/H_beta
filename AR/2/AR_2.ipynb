{
 "cells": [
  {
   "cell_type": "code",
   "execution_count": 1,
   "metadata": {},
   "outputs": [],
   "source": [
    "import pandas as pd \n",
    "import numpy as np \n",
    "import scipy.stats as st \n",
    "from scipy.interpolate import interp1d\n",
    "from matplotlib import pyplot as plt \n",
    "import math\n",
    "import statistics as stats"
   ]
  },
  {
   "cell_type": "code",
   "execution_count": 2,
   "metadata": {},
   "outputs": [
    {
     "name": "stdout",
     "output_type": "stream",
     "text": [
      "2249.8179758021365\n",
      "0.8988852935813805\n",
      "           A        B\n",
      "0   0.240217   5461.0\n",
      "1   2.175642  10714.0\n",
      "2   0.055222   7307.0\n",
      "3   0.060443   4371.0\n",
      "4   0.070739   6340.0\n",
      "5   0.205223  12437.0\n",
      "6   1.023104   4691.0\n",
      "7   0.649839   3919.0\n",
      "8   1.265851   2982.0\n",
      "9   0.636987   3254.0\n",
      "10  0.225057   4265.0\n",
      "11  0.044262   3949.0\n",
      "12  0.232791   7575.0\n",
      "13  4.853634   7216.0\n",
      "14  0.288246   4349.0\n",
      "15  1.552347   6212.0\n",
      "16  0.523928   6303.0\n",
      "17  0.863102   4188.0\n",
      "18  0.133561   4058.0\n",
      "19  0.070883  10412.0\n",
      "20  0.335052   5394.0\n",
      "21  0.080812   3262.0\n",
      "22  0.790584   3280.0\n",
      "23  0.504932   4722.0\n",
      "24  1.294053   4436.0\n",
      "25  1.011755   3666.0\n",
      "26  0.354924   4654.0\n",
      "27  0.212887   4147.0\n",
      "28  1.118562   4122.0\n",
      "29  0.269054   4326.0\n",
      "30  0.129244   4529.0\n",
      "31  0.239073   6255.0\n",
      "32  0.082200   3588.0\n",
      "33  0.665045   3051.0\n"
     ]
    }
   ],
   "source": [
    "data=pd.read_csv('AR_2_U.csv',header=0,)\n",
    "data = data.dropna(how='any')#quita los valores nan del documento\n",
    "y=data.iloc[:,0]\n",
    "\n",
    "x=data.iloc[:,1]\n",
    "\n",
    "print(stats.stdev(x))\n",
    "print(stats.stdev(y))\n",
    "print(data)"
   ]
  },
  {
   "cell_type": "code",
   "execution_count": 3,
   "metadata": {},
   "outputs": [
    {
     "data": {
      "text/plain": [
       "<function matplotlib.pyplot.show(close=None, block=None)>"
      ]
     },
     "execution_count": 3,
     "metadata": {},
     "output_type": "execute_result"
    },
    {
     "data": {
      "image/png": "[encoded data removed]",
      "text/plain": [
       "<Figure size 432x288 with 1 Axes>"
      ]
     },
     "metadata": {
      "needs_background": "light"
     },
     "output_type": "display_data"
    }
   ],
   "source": [
    "yerror = 0.8988852935813805\n",
    "xerror = 2249.8179758021365\n",
    "plt.plot(x,y,'ro')\n",
    "plt.errorbar(x,y,yerr=yerror, fmt = ' ' , ecolor='black')\n",
    "plt.errorbar(x,y,xerr=xerror, fmt = ' ' , ecolor='blue')\n",
    "plt.ylabel('AR_U_2')\n",
    "plt.xlabel('FWHM_Km/s')\n",
    "plt.title(\"H_beta_U_2\")\n",
    "#plt.xscale('log')\n",
    "#plt.yscale('log')\n",
    "plt.grid()\n",
    "plt.savefig(\"H_beta_AR_U_2_error.pdf\")\n",
    "plt.show"
   ]
  },
  {
   "cell_type": "code",
   "execution_count": 4,
   "metadata": {},
   "outputs": [
    {
     "name": "stdout",
     "output_type": "stream",
     "text": [
      "2249.8179758021365\n",
      "6.097556088377577\n",
      "            A        B\n",
      "0    5.715810   5461.0\n",
      "1    2.637592  10714.0\n",
      "2    0.531011   7307.0\n",
      "3    0.183625   4371.0\n",
      "4    7.928892   6340.0\n",
      "5    0.197092  12437.0\n",
      "6    1.715594   4691.0\n",
      "7    0.246670   3919.0\n",
      "8    6.284349   2982.0\n",
      "9    2.705753   3254.0\n",
      "10   3.473937   4265.0\n",
      "11   3.171038   3949.0\n",
      "12   0.920595   7575.0\n",
      "13   0.420070   7216.0\n",
      "14   1.870739   4349.0\n",
      "15   3.401505   6212.0\n",
      "16   4.230274   6303.0\n",
      "17   1.573554   4188.0\n",
      "18   2.724704   4058.0\n",
      "19   0.251564  10412.0\n",
      "20   3.780832   5394.0\n",
      "21   0.298259   3262.0\n",
      "22   0.940078   3280.0\n",
      "23   3.729114   4722.0\n",
      "24  35.608858   4436.0\n",
      "25   0.414673   3666.0\n",
      "26   1.460860   4654.0\n",
      "27   7.690958   4147.0\n",
      "28   1.243065   4122.0\n",
      "29   0.033734   4326.0\n",
      "30   1.659623   4529.0\n",
      "31   1.233157   6255.0\n",
      "32   3.338111   3588.0\n",
      "33   0.151038   3051.0\n"
     ]
    }
   ],
   "source": [
    "data=pd.read_csv('AR_2_G.csv',header=0,)\n",
    "data = data.dropna(how='any')#quita los valores nan del documento\n",
    "y=data.iloc[:,0]\n",
    "\n",
    "x=data.iloc[:,1]\n",
    "\n",
    "print(stats.stdev(x))\n",
    "print(stats.stdev(y))\n",
    "print(data)"
   ]
  },
  {
   "cell_type": "code",
   "execution_count": 6,
   "metadata": {},
   "outputs": [
    {
     "data": {
      "text/plain": [
       "<function matplotlib.pyplot.show(close=None, block=None)>"
      ]
     },
     "execution_count": 6,
     "metadata": {},
     "output_type": "execute_result"
    },
    {
     "data": {
      "image/png": "[encoded data removed]",
      "text/plain": [
       "<Figure size 432x288 with 1 Axes>"
      ]
     },
     "metadata": {
      "needs_background": "light"
     },
     "output_type": "display_data"
    }
   ],
   "source": [
    "yerror = 6.097556088377577\n",
    "xerror = 2249.8179758021365\n",
    "plt.plot(x,y,'ro')\n",
    "plt.errorbar(x,y,yerr=yerror, fmt = ' ' , ecolor='black')\n",
    "plt.errorbar(x,y,xerr=xerror, fmt = ' ' , ecolor='blue')\n",
    "plt.ylabel('AR_G_2')\n",
    "plt.xlabel('FWHM_Km/s')\n",
    "plt.title(\"H_beta_G_2\")\n",
    "#plt.xscale('log')\n",
    "#plt.yscale('log')\n",
    "plt.grid()\n",
    "plt.savefig(\"H_beta_AR_G_2_error.pdf\")\n",
    "plt.show"
   ]
  },
  {
   "cell_type": "code",
   "execution_count": 7,
   "metadata": {},
   "outputs": [
    {
     "name": "stdout",
     "output_type": "stream",
     "text": [
      "2249.8179758021365\n",
      "1.0591735834639369\n",
      "           A        B\n",
      "0   0.783238   5461.0\n",
      "1   1.910053  10714.0\n",
      "2   0.043060   7307.0\n",
      "3   0.082514   4371.0\n",
      "4   0.418695   6340.0\n",
      "5   0.105249  12437.0\n",
      "6   0.639180   4691.0\n",
      "7   0.116354   3919.0\n",
      "8   1.629114   2982.0\n",
      "9   0.992124   3254.0\n",
      "10  1.610478   4265.0\n",
      "11  0.033134   3949.0\n",
      "12  0.479907   7575.0\n",
      "13  0.507827   7216.0\n",
      "14  3.594117   4349.0\n",
      "15  1.830210   6212.0\n",
      "16  3.705626   6303.0\n",
      "17  0.960969   4188.0\n",
      "18  0.276273   4058.0\n",
      "19  0.103356  10412.0\n",
      "20  1.286069   5394.0\n",
      "21  0.197062   3262.0\n",
      "22  0.462994   3280.0\n",
      "23  0.972193   4722.0\n",
      "24  2.375369   4436.0\n",
      "25  0.183977   3666.0\n",
      "26  0.206263   4654.0\n",
      "27  3.692758   4147.0\n",
      "28  0.515599   4122.0\n",
      "29  0.878771   4326.0\n",
      "30  1.665519   4529.0\n",
      "31  0.342615   6255.0\n",
      "32  0.080533   3588.0\n",
      "33  0.182517   3051.0\n"
     ]
    }
   ],
   "source": [
    "data=pd.read_csv('AR_2_R.csv',header=0,)\n",
    "data = data.dropna(how='any')#quita los valores nan del documento\n",
    "y=data.iloc[:,0]\n",
    "\n",
    "x=data.iloc[:,1]\n",
    "\n",
    "print(stats.stdev(x))\n",
    "print(stats.stdev(y))\n",
    "print(data)"
   ]
  },
  {
   "cell_type": "code",
   "execution_count": 9,
   "metadata": {},
   "outputs": [
    {
     "data": {
      "text/plain": [
       "<function matplotlib.pyplot.show(close=None, block=None)>"
      ]
     },
     "execution_count": 9,
     "metadata": {},
     "output_type": "execute_result"
    },
    {
     "data": {
      "image/png": "[encoded data removed]",
      "text/plain": [
       "<Figure size 432x288 with 1 Axes>"
      ]
     },
     "metadata": {
      "needs_background": "light"
     },
     "output_type": "display_data"
    }
   ],
   "source": [
    "yerror = 1.0591735834639369\n",
    "xerror = 2249.8179758021365\n",
    "plt.plot(x,y,'ro')\n",
    "plt.errorbar(x,y,yerr=yerror, fmt = ' ' , ecolor='black')\n",
    "plt.errorbar(x,y,xerr=xerror, fmt = ' ' , ecolor='blue')\n",
    "plt.ylabel('AR_R_2')\n",
    "plt.xlabel('FWHM_Km/s')\n",
    "plt.title(\"H_beta_R_2\")\n",
    "#plt.xscale('log')\n",
    "#plt.yscale('log')\n",
    "plt.grid()\n",
    "plt.savefig(\"H_beta_AR_R_2_error.pdf\")\n",
    "plt.show"
   ]
  },
  {
   "cell_type": "code",
   "execution_count": 18,
   "metadata": {},
   "outputs": [
    {
     "name": "stdout",
     "output_type": "stream",
     "text": [
      "2249.8179758021365\n",
      "2.3080776438871515\n",
      "            A        B\n",
      "0    2.624631   5461.0\n",
      "1    2.510650  10714.0\n",
      "2    0.114183   7307.0\n",
      "3    0.129539   4371.0\n",
      "4    0.115155   6340.0\n",
      "5    0.117425  12437.0\n",
      "6    0.978608   4691.0\n",
      "7    0.847420   3919.0\n",
      "8    3.510674   2982.0\n",
      "9   12.091779   3254.0\n",
      "10   4.259433   4265.0\n",
      "11   1.265950   3949.0\n",
      "12   0.230821   7575.0\n",
      "13   1.086372   7216.0\n",
      "14   4.218564   4349.0\n",
      "15   1.480220   6212.0\n",
      "16   3.023356   6303.0\n",
      "17   0.312877   4188.0\n",
      "18   0.186869   4058.0\n",
      "19   0.273019  10412.0\n",
      "20   0.247043   5394.0\n",
      "21   0.096677   3262.0\n",
      "22   1.378078   3280.0\n",
      "23   0.775541   4722.0\n",
      "24   0.665577   4436.0\n",
      "25   4.327587   3666.0\n",
      "26   0.695473   4654.0\n",
      "27   2.576144   4147.0\n",
      "28   3.818363   4122.0\n",
      "29   1.478634   4326.0\n",
      "30   3.113136   4529.0\n",
      "31   0.416703   6255.0\n",
      "32   0.086668   3588.0\n",
      "33   0.284866   3051.0\n"
     ]
    }
   ],
   "source": [
    "data=pd.read_csv('AR_I_.csv',header=0,)\n",
    "data = data.dropna(how='any')#quita los valores nan del documento\n",
    "y=data.iloc[:,0]\n",
    "\n",
    "x=data.iloc[:,1]\n",
    "\n",
    "print(stats.stdev(x))\n",
    "print(stats.stdev(y))\n",
    "print(data)"
   ]
  },
  {
   "cell_type": "code",
   "execution_count": 19,
   "metadata": {},
   "outputs": [
    {
     "data": {
      "text/plain": [
       "<function matplotlib.pyplot.show(close=None, block=None)>"
      ]
     },
     "execution_count": 19,
     "metadata": {},
     "output_type": "execute_result"
    },
    {
     "data": {
      "image/png": "[encoded data removed]",
      "text/plain": [
       "<Figure size 432x288 with 1 Axes>"
      ]
     },
     "metadata": {
      "needs_background": "light"
     },
     "output_type": "display_data"
    }
   ],
   "source": [
    "yerror = 2.3080776438871515\n",
    "xerror = 2249.8179758021365\n",
    "plt.plot(x,y,'ro')\n",
    "plt.errorbar(x,y,yerr=yerror, fmt = ' ' , ecolor='black')\n",
    "plt.errorbar(x,y,xerr=xerror, fmt = ' ' , ecolor='blue')\n",
    "plt.ylabel('AR_I_2')\n",
    "plt.xlabel('FWHM_Km/s')\n",
    "plt.title(\"H_beta_I_2\")\n",
    "#plt.xscale('log')\n",
    "#plt.yscale('log')\n",
    "plt.grid()\n",
    "plt.savefig(\"H_beta_AR_I_2_error.pdf\")\n",
    "plt.show"
   ]
  },
  {
   "cell_type": "code",
   "execution_count": 20,
   "metadata": {},
   "outputs": [
    {
     "name": "stdout",
     "output_type": "stream",
     "text": [
      "2249.8179758021365\n",
      "2.8244164483459615\n",
      "            A        B\n",
      "0    0.589306   5461.0\n",
      "1    0.281835  10714.0\n",
      "2    0.156123   7307.0\n",
      "3    0.391727   4371.0\n",
      "4    1.529968   6340.0\n",
      "5    0.179345  12437.0\n",
      "6    0.456956   4691.0\n",
      "7    0.216112   3919.0\n",
      "8    1.287858   2982.0\n",
      "9   14.403749   3254.0\n",
      "10   0.197199   4265.0\n",
      "11   0.518685   3949.0\n",
      "12   0.186580   7575.0\n",
      "13   0.251868   7216.0\n",
      "14   0.612526   4349.0\n",
      "15   0.072795   6212.0\n",
      "16   0.826102   6303.0\n",
      "17   0.247466   4188.0\n",
      "18   0.093419   4058.0\n",
      "19   0.950570  10412.0\n",
      "20   9.503536   5394.0\n",
      "21   0.457643   3262.0\n",
      "22   0.512661   3280.0\n",
      "23   1.331156   4722.0\n",
      "24   0.253412   4436.0\n",
      "25   0.378212   3666.0\n",
      "26   0.261565   4654.0\n",
      "27   0.410288   4147.0\n",
      "28   1.238668   4122.0\n",
      "29   0.419052   4326.0\n",
      "30   0.729484   4529.0\n",
      "31   0.183715   6255.0\n",
      "32   0.262367   3588.0\n",
      "33   0.839896   3051.0\n"
     ]
    }
   ],
   "source": [
    "data=pd.read_csv('AR_2_Z.csv',header=0,)\n",
    "data = data.dropna(how='any')#quita los valores nan del documento\n",
    "y=data.iloc[:,0]\n",
    "\n",
    "x=data.iloc[:,1]\n",
    "\n",
    "print(stats.stdev(x))\n",
    "print(stats.stdev(y))\n",
    "print(data)"
   ]
  },
  {
   "cell_type": "code",
   "execution_count": 21,
   "metadata": {},
   "outputs": [
    {
     "data": {
      "text/plain": [
       "<function matplotlib.pyplot.show(close=None, block=None)>"
      ]
     },
     "execution_count": 21,
     "metadata": {},
     "output_type": "execute_result"
    },
    {
     "data": {
      "image/png": "[encoded data removed]",
      "text/plain": [
       "<Figure size 432x288 with 1 Axes>"
      ]
     },
     "metadata": {
      "needs_background": "light"
     },
     "output_type": "display_data"
    }
   ],
   "source": [
    "yerror = 2.8244164483459615\n",
    "xerror = 2249.8179758021365\n",
    "plt.plot(x,y,'ro')\n",
    "plt.errorbar(x,y,yerr=yerror, fmt = ' ' , ecolor='black')\n",
    "plt.errorbar(x,y,xerr=xerror, fmt = ' ' , ecolor='blue')\n",
    "plt.ylabel('AR_Z_2')\n",
    "plt.xlabel('FWHM_Km/s')\n",
    "plt.title(\"H_beta_I_2\")\n",
    "#plt.xscale('log')\n",
    "#plt.yscale('log')\n",
    "plt.grid()\n",
    "plt.savefig(\"H_beta_AR_Z_2_error.pdf\")\n",
    "plt.show"
   ]
  },
  {
   "cell_type": "code",
   "execution_count": null,
   "metadata": {},
   "outputs": [],
   "source": []
  }
 ],
 "metadata": {
  "kernelspec": {
   "display_name": "Python 3",
   "language": "python",
   "name": "python3"
  },
  "language_info": {
   "codemirror_mode": {
    "name": "ipython",
    "version": 3
   },
   "file_extension": ".py",
   "mimetype": "text/x-python",
   "name": "python",
   "nbconvert_exporter": "python",
   "pygments_lexer": "ipython3",
   "version": "3.7.6"
  }
 },
 "nbformat": 4,
 "nbformat_minor": 4
}
