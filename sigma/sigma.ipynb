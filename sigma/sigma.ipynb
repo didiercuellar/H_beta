{
 "cells": [
  {
   "cell_type": "code",
   "execution_count": 1,
   "metadata": {},
   "outputs": [],
   "source": [
    "import pandas as pd \n",
    "import numpy as np \n",
    "import scipy.stats as st \n",
    "from scipy.interpolate import interp1d\n",
    "from matplotlib import pyplot as plt \n",
    "import math\n",
    "import statistics as stats"
   ]
  },
  {
   "cell_type": "code",
   "execution_count": 2,
   "metadata": {},
   "outputs": [
    {
     "name": "stdout",
     "output_type": "stream",
     "text": [
      "2249.8179758021365\n",
      "               A         B        C\n",
      "0   6.497258e-05  0.003707   5461.0\n",
      "1   3.846685e-03  0.253235  10714.0\n",
      "2   1.902442e-05  0.003634   7307.0\n",
      "3   1.465659e-05  0.012098   4371.0\n",
      "4   1.959165e-05  0.006184   6340.0\n",
      "5   2.855246e-04  0.044214  12437.0\n",
      "6   8.375490e-04  0.799201   4691.0\n",
      "7   1.427892e-03  0.054043   3919.0\n",
      "8   1.932190e-03  0.266114   2982.0\n",
      "9   2.178607e-03  0.368536   3254.0\n",
      "10  2.327441e-05  0.135988   4265.0\n",
      "11  4.565673e-06  0.007107   3949.0\n",
      "12  9.236963e-05  0.196197   7575.0\n",
      "13  3.038000e-02  0.569091   7216.0\n",
      "14  1.066530e-04  0.194273   4349.0\n",
      "15  2.482377e-04  0.415536   6212.0\n",
      "16  1.540140e-04  0.206434   6303.0\n",
      "17  7.692028e-04  0.374508   4188.0\n",
      "18  2.712251e-05  0.019247   4058.0\n",
      "19  5.177196e-06  0.064422  10412.0\n",
      "20  9.951746e-05  0.111789   5394.0\n",
      "21  6.455780e-08  0.143307   3262.0\n",
      "22  1.237160e-03  0.243945   3280.0\n",
      "23  1.375756e-04  0.229583   4722.0\n",
      "24  1.608458e-03  0.322334   4436.0\n",
      "25  6.340278e-04  0.264676   3666.0\n",
      "26  8.522874e-05  0.084175   4654.0\n",
      "27  4.796950e-05  0.238311   4147.0\n",
      "28  3.586623e-04  0.093501   4122.0\n",
      "29  4.756320e-05  0.044675   4326.0\n",
      "30  8.808755e-05  0.161417   4529.0\n",
      "31  7.404303e-05  0.039317   6255.0\n",
      "32  8.358983e-05  0.088720   3588.0\n",
      "33  3.930051e-04  0.313197   3051.0\n"
     ]
    }
   ],
   "source": [
    "data=pd.read_csv('sigma_U.csv',header=0,)\n",
    "data = data.dropna(how='any')#quita los valores nan del documento\n",
    "y=data.iloc[:,0]\n",
    "w=data.iloc[:,1]\n",
    "x=data.iloc[:,2]\n",
    "\n",
    "print(stats.stdev(x))\n",
    "print(data)"
   ]
  },
  {
   "cell_type": "code",
   "execution_count": 3,
   "metadata": {},
   "outputs": [
    {
     "data": {
      "text/plain": [
       "<function matplotlib.pyplot.show(close=None, block=None)>"
      ]
     },
     "execution_count": 3,
     "metadata": {},
     "output_type": "execute_result"
    },
    {
     "data": {
      "image/png": "[encoded data removed]",
      "text/plain": [
       "<Figure size 432x288 with 1 Axes>"
      ]
     },
     "metadata": {
      "needs_background": "light"
     },
     "output_type": "display_data"
    }
   ],
   "source": [
    "yerror = w\n",
    "xerror = 2249.8179758021365\n",
    "plt.plot(x,y,'ro')\n",
    "plt.errorbar(x,y,yerr=yerror, fmt = ' ' , ecolor='black')\n",
    "plt.errorbar(x,y,xerr=xerror, fmt = ' ' , ecolor='blue')\n",
    "plt.ylabel('sigma_U')\n",
    "plt.xlabel('FWHM_Km/s')\n",
    "plt.title(\"H_beta_U\")\n",
    "#plt.xscale('log')\n",
    "#plt.yscale('log')\n",
    "plt.grid()\n",
    "plt.savefig(\"H_beta_sigma_U_error.pdf\")\n",
    "plt.show"
   ]
  },
  {
   "cell_type": "code",
   "execution_count": 4,
   "metadata": {},
   "outputs": [
    {
     "name": "stdout",
     "output_type": "stream",
     "text": [
      "2249.8179758021365\n",
      "           A         B        C\n",
      "0   0.020374  0.217542   5461.0\n",
      "1   0.019147  0.245628  10714.0\n",
      "2   0.000347  0.007313   7307.0\n",
      "3   0.000015  0.018346   4371.0\n",
      "4   0.204625  0.424457   6340.0\n",
      "5   0.000170  0.003055  12437.0\n",
      "6   0.006953  0.503600   4691.0\n",
      "7   0.000133  0.005194   3919.0\n",
      "8   0.067764  0.496364   2982.0\n",
      "9   0.021625  0.227340   3254.0\n",
      "10  0.022666  0.368845   4265.0\n",
      "11  0.001682  0.298338   3949.0\n",
      "12  0.000366  0.174581   7575.0\n",
      "13  0.000277  0.024135   7216.0\n",
      "14  0.015656  0.249361   4349.0\n",
      "15  0.012202  0.240847   6212.0\n",
      "16  0.032636  0.481252   6303.0\n",
      "17  0.000576  0.196042   4188.0\n",
      "18  0.008339  0.322689   4058.0\n",
      "19  0.000079  0.018817  10412.0\n",
      "20  0.010847  0.288359   5394.0\n",
      "21  0.000001  0.078270   3262.0\n",
      "22  0.000352  0.146741   3280.0\n",
      "23  0.000277  0.024135   4722.0\n",
      "24  0.015656  0.249361   4436.0\n",
      "25  0.012202  0.240847   3666.0\n",
      "26  0.032636  0.481252   4654.0\n",
      "27  0.000576  0.196042   4147.0\n",
      "28  0.008339  0.322689   4122.0\n",
      "29  0.000079  0.018817   4326.0\n",
      "30  0.010847  0.288359   4529.0\n",
      "31  0.000001  0.078270   6255.0\n",
      "32  0.000352  0.146741   3588.0\n",
      "33  0.061857  0.375656   3051.0\n"
     ]
    }
   ],
   "source": [
    "data=pd.read_csv('sigma_G.csv',header=0,)\n",
    "data = data.dropna(how='any')#quita los valores nan del documento\n",
    "y=data.iloc[:,0]\n",
    "w=data.iloc[:,1]\n",
    "x=data.iloc[:,2]\n",
    "\n",
    "print(stats.stdev(x))\n",
    "print(data)"
   ]
  },
  {
   "cell_type": "code",
   "execution_count": 5,
   "metadata": {},
   "outputs": [
    {
     "data": {
      "text/plain": [
       "<function matplotlib.pyplot.show(close=None, block=None)>"
      ]
     },
     "execution_count": 5,
     "metadata": {},
     "output_type": "execute_result"
    },
    {
     "data": {
      "image/png": "[encoded data removed]",
      "text/plain": [
       "<Figure size 432x288 with 1 Axes>"
      ]
     },
     "metadata": {
      "needs_background": "light"
     },
     "output_type": "display_data"
    }
   ],
   "source": [
    "yerror = w\n",
    "xerror = 2249.8179758021365\n",
    "plt.plot(x,y,'ro')\n",
    "plt.errorbar(x,y,yerr=yerror, fmt = ' ' , ecolor='black')\n",
    "plt.errorbar(x,y,xerr=xerror, fmt = ' ' , ecolor='blue')\n",
    "plt.ylabel('sigma_G')\n",
    "plt.xlabel('FWHM_Km/s')\n",
    "plt.title(\"H_beta_G\")\n",
    "#plt.xscale('log')\n",
    "#plt.yscale('log')\n",
    "plt.grid()\n",
    "plt.savefig(\"H_beta_sigma_G_error.pdf\")\n",
    "plt.show"
   ]
  },
  {
   "cell_type": "code",
   "execution_count": 6,
   "metadata": {},
   "outputs": [
    {
     "name": "stdout",
     "output_type": "stream",
     "text": [
      "2249.8179758021365\n",
      "           A         B        C\n",
      "0   0.000240  0.049229   5461.0\n",
      "1   0.009937  0.466189  10714.0\n",
      "2   0.000010  0.002430   7307.0\n",
      "3   0.000006  0.013842   4371.0\n",
      "4   0.000146  0.074123   6340.0\n",
      "5   0.000039  0.000768  12437.0\n",
      "6   0.000131  0.199589   4691.0\n",
      "7   0.000063  0.002016   3919.0\n",
      "8   0.018530  0.237832   2982.0\n",
      "9   0.007715  0.224452   3254.0\n",
      "10  0.024279  0.262688   4265.0\n",
      "11  0.000002  0.009582   3949.0\n",
      "12  0.000264  0.117634   7575.0\n",
      "13  0.000459  0.117059   7216.0\n",
      "14  0.009245  0.233762   4349.0\n",
      "15  0.002111  0.174080   6212.0\n",
      "16  0.016433  0.411545   6303.0\n",
      "17  0.000293  0.110452   4188.0\n",
      "18  0.000044  0.020968   4058.0\n",
      "19  0.000011  0.005729  10412.0\n",
      "20  0.016436  0.108667   5394.0\n",
      "21  0.000040  0.027482   3262.0\n",
      "22  0.000170  0.019405   3280.0\n",
      "23  0.000761  0.162790   4722.0\n",
      "24  0.004054  0.275583   4436.0\n",
      "25  0.000003  0.051299   3666.0\n",
      "26  0.000061  0.015737   4654.0\n",
      "27  0.064682  0.222138   4147.0\n",
      "28  0.000084  0.193637   4122.0\n",
      "29  0.000284  0.000284   4326.0\n",
      "30  0.002096  0.205957   4529.0\n",
      "31  0.000079  0.046811   6255.0\n",
      "32  0.000003  0.028237   3588.0\n",
      "33  0.000059  0.039210   3051.0\n"
     ]
    }
   ],
   "source": [
    "data=pd.read_csv('sigma_R.csv',header=0,)\n",
    "data = data.dropna(how='any')#quita los valores nan del documento\n",
    "y=data.iloc[:,0]\n",
    "w=data.iloc[:,1]\n",
    "x=data.iloc[:,2]\n",
    "\n",
    "print(stats.stdev(x))\n",
    "print(data)"
   ]
  },
  {
   "cell_type": "code",
   "execution_count": 7,
   "metadata": {},
   "outputs": [
    {
     "data": {
      "text/plain": [
       "<function matplotlib.pyplot.show(close=None, block=None)>"
      ]
     },
     "execution_count": 7,
     "metadata": {},
     "output_type": "execute_result"
    },
    {
     "data": {
      "image/png": "[encoded data removed]",
      "text/plain": [
       "<Figure size 432x288 with 1 Axes>"
      ]
     },
     "metadata": {
      "needs_background": "light"
     },
     "output_type": "display_data"
    }
   ],
   "source": [
    "yerror = w\n",
    "xerror = 2249.8179758021365\n",
    "plt.plot(x,y,'ro')\n",
    "plt.errorbar(x,y,yerr=yerror, fmt = ' ' , ecolor='black')\n",
    "plt.errorbar(x,y,xerr=xerror, fmt = ' ' , ecolor='blue')\n",
    "plt.ylabel('sigma_R')\n",
    "plt.xlabel('FWHM_Km/s')\n",
    "plt.title(\"H_beta_R\")\n",
    "#plt.xscale('log')\n",
    "#plt.yscale('log')\n",
    "plt.grid()\n",
    "plt.savefig(\"H_beta_sigma_R_error.pdf\")\n",
    "plt.show"
   ]
  },
  {
   "cell_type": "code",
   "execution_count": 8,
   "metadata": {},
   "outputs": [
    {
     "name": "stdout",
     "output_type": "stream",
     "text": [
      "2249.8179758021365\n",
      "               A         B        C\n",
      "0   2.069541e-02  0.179094   5461.0\n",
      "1   1.134060e-02  0.277104  10714.0\n",
      "2   4.675283e-05  0.006660   7307.0\n",
      "3   3.306489e-05  0.020402   4371.0\n",
      "4   3.935957e-30  0.210971   6340.0\n",
      "5   3.882826e-05  0.000768  12437.0\n",
      "6   1.311238e-04  0.199589   4691.0\n",
      "7   6.256137e-05  0.002016   3919.0\n",
      "8   3.907244e-02  0.283571   2982.0\n",
      "9   2.462273e-02  1.104232   3254.0\n",
      "10  9.888093e-02  0.168145   4265.0\n",
      "11  2.572900e-04  0.147434   3949.0\n",
      "12  4.454450e-05  0.119743   7575.0\n",
      "13  1.426441e-03  0.160933   7216.0\n",
      "14  3.054146e-02  0.336713   4349.0\n",
      "15  1.596887e-03  0.189112   6212.0\n",
      "16  3.169736e-02  0.307179   6303.0\n",
      "17  4.911671e-05  0.047464   4188.0\n",
      "18  2.752984e-05  0.066628   4058.0\n",
      "19  4.297130e-05  0.023350  10412.0\n",
      "20  2.201417e-05  0.000748   5394.0\n",
      "21  1.163590e-05  0.037032   3262.0\n",
      "22  2.726653e-25  0.083650   3280.0\n",
      "23  4.523898e-04  0.091226   4722.0\n",
      "24  3.167977e-04  0.093084   4436.0\n",
      "25  1.751401e-26  0.049322   3666.0\n",
      "26  5.221035e-05  0.146278   4654.0\n",
      "27  3.213755e-02  0.207380   4147.0\n",
      "28  4.860647e-03  0.326680   4122.0\n",
      "29  7.560224e-04  0.169526   4326.0\n",
      "30  6.581084e-43  0.350991   4529.0\n",
      "31  4.821968e-05  0.052662   6255.0\n",
      "32  2.965978e-06  0.023677   3588.0\n",
      "33  7.054865e-05  0.076119   3051.0\n"
     ]
    }
   ],
   "source": [
    "data=pd.read_csv('sigma_I.csv',header=0,)\n",
    "data = data.dropna(how='any')#quita los valores nan del documento\n",
    "y=data.iloc[:,0]\n",
    "w=data.iloc[:,1]\n",
    "x=data.iloc[:,2]\n",
    "\n",
    "print(stats.stdev(x))\n",
    "print(data)"
   ]
  },
  {
   "cell_type": "code",
   "execution_count": 9,
   "metadata": {},
   "outputs": [
    {
     "data": {
      "text/plain": [
       "<function matplotlib.pyplot.show(close=None, block=None)>"
      ]
     },
     "execution_count": 9,
     "metadata": {},
     "output_type": "execute_result"
    },
    {
     "data": {
      "image/png": "[encoded data removed]",
      "text/plain": [
       "<Figure size 432x288 with 1 Axes>"
      ]
     },
     "metadata": {
      "needs_background": "light"
     },
     "output_type": "display_data"
    }
   ],
   "source": [
    "yerror = w\n",
    "xerror = 2249.8179758021365\n",
    "plt.plot(x,y,'ro')\n",
    "plt.errorbar(x,y,yerr=yerror, fmt = ' ' , ecolor='black')\n",
    "plt.errorbar(x,y,xerr=xerror, fmt = ' ' , ecolor='blue')\n",
    "plt.ylabel('sigma_I')\n",
    "plt.xlabel('FWHM_Km/s')\n",
    "plt.title(\"H_beta_I\")\n",
    "#plt.xscale('log')\n",
    "#plt.yscale('log')\n",
    "plt.grid()\n",
    "plt.savefig(\"H_beta_sigma_I_error.pdf\")\n",
    "plt.show"
   ]
  },
  {
   "cell_type": "code",
   "execution_count": 10,
   "metadata": {},
   "outputs": [
    {
     "name": "stdout",
     "output_type": "stream",
     "text": [
      "2249.8179758021365\n",
      "               A          B        C\n",
      "0   8.498908e-05   0.083304   5461.0\n",
      "1   5.154518e-05   0.066665  10714.0\n",
      "2   6.020869e-05   0.183441   7307.0\n",
      "3   6.605876e-08   0.053880   4371.0\n",
      "4   1.904890e-05   0.206973   6340.0\n",
      "5   1.063661e-04   0.018693  12437.0\n",
      "6   1.008966e-04   0.287839   4691.0\n",
      "7   3.076156e-05   0.021780   3919.0\n",
      "8   1.967467e-03   0.280217   2982.0\n",
      "9   2.604240e-03   0.224694   3254.0\n",
      "10  1.859598e-05   0.117267   4265.0\n",
      "11  2.469788e-05   0.098567   3949.0\n",
      "12  3.206913e-05   0.030909   7575.0\n",
      "13  1.738366e-04   0.066413   7216.0\n",
      "14  4.655123e-06   0.108084   4349.0\n",
      "15  1.680089e-04   0.355652   6212.0\n",
      "16  3.958446e-05   0.097459   6303.0\n",
      "17  1.157727e-05   0.129902   4188.0\n",
      "18  1.020284e-05   0.160878   4058.0\n",
      "19  1.805068e-01   0.147913  10412.0\n",
      "20  1.420331e-05   0.645919   5394.0\n",
      "21  8.151442e-06   0.110811   3262.0\n",
      "22  4.334162e-05   3.841400   3280.0\n",
      "23  4.490392e-05  13.613169   4722.0\n",
      "24  5.690052e-05   0.137680   4436.0\n",
      "25  2.238477e-05   0.080787   3666.0\n",
      "26  1.321691e-05   0.204188   4654.0\n",
      "27  8.200252e-04   0.493655   4147.0\n",
      "28  5.486490e-05   0.220088   4122.0\n",
      "29  5.447762e-09   0.504298   4326.0\n",
      "30  1.245295e-05   0.087402   4529.0\n",
      "31  2.490043e-05   0.155039   6255.0\n",
      "32  3.378012e-05   0.265720   3588.0\n",
      "33  1.992442e-05   0.025956   3051.0\n"
     ]
    }
   ],
   "source": [
    "data=pd.read_csv('sigma_Z.csv',header=0,)\n",
    "data = data.dropna(how='any')#quita los valores nan del documento\n",
    "y=data.iloc[:,0]\n",
    "w=data.iloc[:,1]\n",
    "x=data.iloc[:,2]\n",
    "\n",
    "print(stats.stdev(x))\n",
    "print(data)"
   ]
  },
  {
   "cell_type": "code",
   "execution_count": 12,
   "metadata": {},
   "outputs": [
    {
     "data": {
      "text/plain": [
       "<function matplotlib.pyplot.show(close=None, block=None)>"
      ]
     },
     "execution_count": 12,
     "metadata": {},
     "output_type": "execute_result"
    },
    {
     "data": {
      "image/png": "[encoded data removed]",
      "text/plain": [
       "<Figure size 432x288 with 1 Axes>"
      ]
     },
     "metadata": {
      "needs_background": "light"
     },
     "output_type": "display_data"
    }
   ],
   "source": [
    "yerror = w\n",
    "xerror = 2249.8179758021365\n",
    "plt.plot(x,y,'ro')\n",
    "plt.errorbar(x,y,yerr=yerror, fmt = ' ' , ecolor='black')\n",
    "plt.errorbar(x,y,xerr=xerror, fmt = ' ' , ecolor='blue')\n",
    "plt.ylabel('sigma_Z')\n",
    "plt.xlabel('FWHM_Km/s')\n",
    "plt.title(\"H_beta_Z\")\n",
    "#plt.xscale('log')\n",
    "#plt.yscale('log')\n",
    "plt.grid()\n",
    "plt.savefig(\"H_beta_sigma_Z_error.pdf\")\n",
    "plt.show"
   ]
  },
  {
   "cell_type": "code",
   "execution_count": null,
   "metadata": {},
   "outputs": [],
   "source": []
  }
 ],
 "metadata": {
  "kernelspec": {
   "display_name": "Python 3",
   "language": "python",
   "name": "python3"
  },
  "language_info": {
   "codemirror_mode": {
    "name": "ipython",
    "version": 3
   },
   "file_extension": ".py",
   "mimetype": "text/x-python",
   "name": "python",
   "nbconvert_exporter": "python",
   "pygments_lexer": "ipython3",
   "version": "3.7.6"
  }
 },
 "nbformat": 4,
 "nbformat_minor": 4
}
